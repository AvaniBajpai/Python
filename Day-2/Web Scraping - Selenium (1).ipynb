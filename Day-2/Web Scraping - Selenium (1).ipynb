{
 "cells": [
  {
   "cell_type": "markdown",
   "metadata": {},
   "source": [
    "### Selenium\n",
    "Selenium is a Python tool for automating web browsers to do number of tasks."
   ]
  },
  {
   "cell_type": "code",
   "execution_count": 1,
   "metadata": {},
   "outputs": [],
   "source": [
    "url=\"https://www.naukri.com/data-science-jobs?k=data%20science\""
   ]
  },
  {
   "cell_type": "code",
   "execution_count": 2,
   "metadata": {},
   "outputs": [],
   "source": [
    "from selenium import webdriver\n",
    "from bs4 import BeautifulSoup\n",
    "import os\n",
    "                                            # install mozila geckodriver\n",
    "# Firefox webdriver driver github\n",
    "# WebDriver is a remote control interface that enables introspection and control of user agents"
   ]
  },
  {
   "cell_type": "raw",
   "metadata": {},
   "source": [
    "Selenium Firefox Driver, also called GeckoDriver is a browser engine developed by Mozilla for many applications. It provides a link between test cases and the Firefox browser. Without the help of GeckoDriver, one cannot instantiate the object of Firefox browser and perform automated Selenium testing."
   ]
  },
  {
   "cell_type": "code",
   "execution_count": 3,
   "metadata": {},
   "outputs": [],
   "source": [
    "#initiate the mozila firefox\n"
   ]
  },
  {
   "cell_type": "code",
   "execution_count": 4,
   "metadata": {},
   "outputs": [],
   "source": []
  },
  {
   "cell_type": "code",
   "execution_count": 5,
   "metadata": {},
   "outputs": [],
   "source": [
    "\n",
    "#page_source method is used retrieve the page source of the webpage the user is currently accessing. \n"
   ]
  },
  {
   "cell_type": "code",
   "execution_count": 6,
   "metadata": {
    "collapsed": true
   },
   "outputs": [
    {
     "data": {
      "text/plain": [
       "[<a class=\"title fw500 ellipsis\" href=\"https://www.naukri.com/job-listings-analyst-lead-for-data-science-datorama-omnicom-media-group-india-private-limited-hyderabad-secunderabad-bangalore-bengaluru-delhi-ncr-3-to-8-years-111121004268\" target=\"_blank\" title=\"Analyst &amp; Lead For Data Science - Datorama\">Analyst &amp; Lead For Data Science - Datorama</a>,\n",
       " <a class=\"title fw500 ellipsis\" href=\"https://www.naukri.com/job-listings-senior-analyst-data-science-tiger-analytics-hyderabad-secunderabad-chennai-bangalore-bengaluru-2-to-6-years-270722501105\" target=\"_blank\" title=\"Senior Analyst-Data Science\">Senior Analyst-Data Science</a>,\n",
       " <a class=\"title fw500 ellipsis\" href=\"https://www.naukri.com/job-listings-senior-analyst-data-science-cigna-ttk-health-insurance-company-limited-bangalore-bengaluru-5-to-10-years-220722500993\" target=\"_blank\" title=\"Senior Analyst (Data Science)\">Senior Analyst (Data Science)</a>,\n",
       " <a class=\"title fw500 ellipsis\" href=\"https://www.naukri.com/job-listings-data-science-senior-analyst-accenture-solutions-pvt-ltd-kolkata-mumbai-hyderabad-secunderabad-pune-chennai-bangalore-bengaluru-delhi-ncr-2-to-5-years-210722901439\" target=\"_blank\" title=\"Data Science Senior Analyst\">Data Science Senior Analyst</a>,\n",
       " <a class=\"title fw500 ellipsis\" href=\"https://www.naukri.com/job-listings-sr-analyst-advanced-analytics-and-data-science-kennametal-india-bangalore-bengaluru-5-to-8-years-190722500660\" target=\"_blank\" title=\"Sr. Analyst Advanced Analytics and Data Science\">Sr. Analyst Advanced Analytics and Data Science</a>,\n",
       " <a class=\"title fw500 ellipsis\" href=\"https://www.naukri.com/job-listings-data-science-carbynetech-india-hyderabad-secunderabad-3-to-6-years-260722906087\" target=\"_blank\" title=\"Data science\">Data science</a>,\n",
       " <a class=\"title fw500 ellipsis\" href=\"https://www.naukri.com/job-listings-acn-applied-intelligence-cc-data-science-in-07-accenture-solutions-pvt-ltd-gurgaon-gurugram-8-to-12-years-270722902405\" target=\"_blank\" title=\"ACN - Applied Intelligence - CC - Data Science (IN) - 07\">ACN - Applied Intelligence - CC - Data Science (IN) - 07</a>,\n",
       " <a class=\"title fw500 ellipsis\" href=\"https://www.naukri.com/job-listings-acn-applied-intelligence-cc-data-science-in-07-accenture-solutions-pvt-ltd-gurgaon-gurugram-8-to-12-years-270722902404\" target=\"_blank\" title=\"ACN - Applied Intelligence - CC - Data Science (IN) - 07\">ACN - Applied Intelligence - CC - Data Science (IN) - 07</a>,\n",
       " <a class=\"title fw500 ellipsis\" href=\"https://www.naukri.com/job-listings-data-science-analyst-angel-one-limited-mumbai-all-areas-5-to-8-years-280722001375\" target=\"_blank\" title=\"Data Science Analyst\">Data Science Analyst</a>,\n",
       " <a class=\"title fw500 ellipsis\" href=\"https://www.naukri.com/job-listings-business-analyst-data-science-eli-research-india-private-limited-faridabad-3-to-4-years-270722009731\" target=\"_blank\" title=\"Business Analyst - Data Science\">Business Analyst - Data Science</a>,\n",
       " <a class=\"title fw500 ellipsis\" href=\"https://www.naukri.com/job-listings-senior-manager-i-data-science-marketplace-walmart-labs-bangalore-bengaluru-5-to-9-years-260722500089\" target=\"_blank\" title=\"Senior Manager I - Data science - Marketplace\">Senior Manager I - Data science - Marketplace</a>,\n",
       " <a class=\"title fw500 ellipsis\" href=\"https://www.naukri.com/job-listings-data-science-analytics-manager-accenture-solutions-pvt-ltd-kolkata-mumbai-hyderabad-secunderabad-pune-chennai-bangalore-bengaluru-delhi-ncr-3-to-5-years-210722905509\" target=\"_blank\" title=\"Data Science Analytics Manager\">Data Science Analytics Manager</a>,\n",
       " <a class=\"title fw500 ellipsis\" href=\"https://www.naukri.com/job-listings-data-science-data-engineer-business-analyst-full-stack-developer-networth-data-products-private-limited-bangalore-bengaluru-0-to-1-years-260522001582\" target=\"_blank\" title=\"Data Science/Data Engineer/Sales and Marketing/Full Stack Developer\">Data Science/Data Engineer/Sales and Marketing/Full Stack Developer</a>,\n",
       " <a class=\"title fw500 ellipsis\" href=\"https://www.naukri.com/job-listings-data-science-engineer-machine-deep-learning-models-r-python-scala-carbynetech-india-hyderabad-secunderabad-4-to-8-years-260722905569\" target=\"_blank\" title=\"Data Science Engineer- Machine/ Deep Learning Models- R/ Python/ Scala\">Data Science Engineer- Machine/ Deep Learning Models- R/ Python/ Scala</a>,\n",
       " <a class=\"title fw500 ellipsis\" href=\"https://www.naukri.com/job-listings-data-science-engineer-deep-learning-neural-networks-carbynetech-india-hyderabad-secunderabad-3-to-7-years-260722905465\" target=\"_blank\" title=\"Data Science Engineer - Deep Learning/Neural Networks\">Data Science Engineer - Deep Learning/Neural Networks</a>,\n",
       " <a class=\"title fw500 ellipsis\" href=\"https://www.naukri.com/job-listings-data-science-engineer-machine-deep-learning-models-r-python-scala-carbynetech-india-hyderabad-secunderabad-4-to-8-years-260722905217\" target=\"_blank\" title=\"Data Science Engineer- Machine/Deep Learning Models- R/Python/Scala\">Data Science Engineer- Machine/Deep Learning Models- R/Python/Scala</a>,\n",
       " <a class=\"title fw500 ellipsis\" href=\"https://www.naukri.com/job-listings-data-science-adv-analytics-carrier-hyderabad-secunderabad-1-to-6-years-250722500541\" target=\"_blank\" title=\"Data Science &amp; Adv . Analytics\">Data Science &amp; Adv . Analytics</a>,\n",
       " <a class=\"title fw500 ellipsis\" href=\"https://www.naukri.com/job-listings-mahindra-logistics-ltd-walk-in-interviews-data-science-role-mahindra-logistics-limited-hyderabad-secunderabad-2-to-4-years-210722011429\" target=\"_blank\" title=\"Mahindra Logistics Ltd | Walk-In Interviews | Data Science Role\">Mahindra Logistics Ltd | Walk-In Interviews | Data Science Role</a>,\n",
       " <a class=\"title fw500 ellipsis\" href=\"https://www.naukri.com/job-listings-data-science-senior-business-analyst-abinbev-gcc-services-private-limited-bangalore-bengaluru-2-to-7-years-210722007139\" target=\"_blank\" title=\"Data Science /Senior Business Analyst\">Data Science /Senior Business Analyst</a>,\n",
       " <a class=\"title fw500 ellipsis\" href=\"https://www.naukri.com/job-listings-data-analyst-data-science-freshers-freelancer-varsha-abhijeet-kakde-pune-0-to-2-years-260722006409\" target=\"_blank\" title=\"Data Analyst / Data Science Freshers \n",
       " \">Data Analyst / Data Science Freshers \n",
       " </a>]"
      ]
     },
     "execution_count": 6,
     "metadata": {},
     "output_type": "execute_result"
    }
   ],
   "source": [
    "# position  #select() method to locate all elements of a particular CSS class\n"
   ]
  },
  {
   "cell_type": "code",
   "execution_count": 7,
   "metadata": {},
   "outputs": [
    {
     "data": {
      "text/plain": [
       "'Analyst & Lead For Data Science - Datorama'"
      ]
     },
     "execution_count": 7,
     "metadata": {},
     "output_type": "execute_result"
    }
   ],
   "source": []
  },
  {
   "cell_type": "code",
   "execution_count": 8,
   "metadata": {},
   "outputs": [
    {
     "data": {
      "text/plain": [
       "20"
      ]
     },
     "execution_count": 8,
     "metadata": {},
     "output_type": "execute_result"
    }
   ],
   "source": [
    "# List comprehension\n"
   ]
  },
  {
   "cell_type": "code",
   "execution_count": 9,
   "metadata": {},
   "outputs": [
    {
     "data": {
      "text/plain": [
       "20"
      ]
     },
     "execution_count": 9,
     "metadata": {},
     "output_type": "execute_result"
    }
   ],
   "source": []
  },
  {
   "cell_type": "code",
   "execution_count": 10,
   "metadata": {},
   "outputs": [
    {
     "name": "stderr",
     "output_type": "stream",
     "text": [
      "C:\\Users\\Nithya\\AppData\\Local\\Temp/ipykernel_2632/2811166915.py:5: DeprecationWarning: find_elements_by_css_selector is deprecated. Please use find_elements(by=By.CSS_SELECTOR, value=css_selector) instead\n",
      "  browser.find_elements_by_css_selector(\"a.subTitle.ellipsis.fleft\")[0].text\n"
     ]
    },
    {
     "data": {
      "text/plain": [
       "'Omnicom Media Group'"
      ]
     },
     "execution_count": 10,
     "metadata": {},
     "output_type": "execute_result"
    }
   ],
   "source": [
    "#Using selenium\n",
    "#subtitle\n",
    "#string patterns used to identify an element based on a combination of HTML tag, \n",
    "#id, class, and attributes.\n"
   ]
  },
  {
   "cell_type": "code",
   "execution_count": 12,
   "metadata": {},
   "outputs": [
    {
     "data": {
      "text/plain": [
       "'Omnicom Media Group'"
      ]
     },
     "execution_count": 12,
     "metadata": {},
     "output_type": "execute_result"
    }
   ],
   "source": []
  },
  {
   "cell_type": "code",
   "execution_count": null,
   "metadata": {},
   "outputs": [],
   "source": [
    "#years\n"
   ]
  },
  {
   "cell_type": "code",
   "execution_count": null,
   "metadata": {},
   "outputs": [],
   "source": []
  },
  {
   "cell_type": "code",
   "execution_count": null,
   "metadata": {},
   "outputs": [],
   "source": [
    "#location\n"
   ]
  },
  {
   "cell_type": "code",
   "execution_count": null,
   "metadata": {},
   "outputs": [],
   "source": [
    "import pandas as pd\n",
    "def get_table(soup):\n",
    "    titles=[i.text for i in soup.select(\"a.title.fw500.ellipsis\")]\n",
    "    company=[i.text for i in soup.select(\"a.subTitle.ellipsis.fleft\")]\n",
    "    exp=[]\n",
    "    sal=[]\n",
    "    loc=[]\n",
    "    for i in soup.find_all('ul',class_='mt-7'):\n",
    "        lis=i.find_all(\"li\")\n",
    "        exp.append(lis[0].text)\n",
    "        sal.append(lis[1].text)\n",
    "        loc.append(lis[2].text)\n",
    "    table=pd.DataFrame({'title':titles,'company':company,'Exp':exp,'Salary':sal,'location':loc})\n",
    "    return table\n",
    "    "
   ]
  },
  {
   "cell_type": "code",
   "execution_count": null,
   "metadata": {},
   "outputs": [],
   "source": []
  },
  {
   "cell_type": "code",
   "execution_count": null,
   "metadata": {},
   "outputs": [],
   "source": [
    "# Extract the data from range of pages"
   ]
  },
  {
   "cell_type": "code",
   "execution_count": null,
   "metadata": {},
   "outputs": [],
   "source": [
    "stub='https://www.naukri.com/data-science-jobs-{}?k=data%20science'"
   ]
  },
  {
   "cell_type": "code",
   "execution_count": null,
   "metadata": {},
   "outputs": [],
   "source": []
  },
  {
   "cell_type": "code",
   "execution_count": null,
   "metadata": {},
   "outputs": [],
   "source": [
    "import time\n",
    "Tables=[]\n",
    "for i in range(1,10):\n",
    "    url=stub.format(i)\n",
    "    browser.get(url)\n",
    "    time.sleep(2) #suspends (waits) execution of the current thread for a given number of seconds\n",
    "    html=browser.page_source\n",
    "    soup=BeautifulSoup(html,\"html.parser\")\n",
    "    Tables.append(get_table(soup))"
   ]
  },
  {
   "cell_type": "code",
   "execution_count": null,
   "metadata": {},
   "outputs": [],
   "source": [
    "df=pd.concat(Tables,axis=0)\n",
    "df.shape"
   ]
  },
  {
   "cell_type": "code",
   "execution_count": null,
   "metadata": {},
   "outputs": [],
   "source": [
    "df.head()"
   ]
  },
  {
   "cell_type": "markdown",
   "metadata": {},
   "source": [
    "---------------------------------------------End ---------------------------------------------------"
   ]
  }
 ],
 "metadata": {
  "kernelspec": {
   "display_name": "Python 3 (ipykernel)",
   "language": "python",
   "name": "python3"
  },
  "language_info": {
   "codemirror_mode": {
    "name": "ipython",
    "version": 3
   },
   "file_extension": ".py",
   "mimetype": "text/x-python",
   "name": "python",
   "nbconvert_exporter": "python",
   "pygments_lexer": "ipython3",
   "version": "3.9.7"
  }
 },
 "nbformat": 4,
 "nbformat_minor": 4
}
