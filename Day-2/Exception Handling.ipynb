{
 "cells": [
  {
   "cell_type": "markdown",
   "id": "b5144c61",
   "metadata": {},
   "source": [
    "#### Handling Exceptions"
   ]
  },
  {
   "cell_type": "markdown",
   "id": "e35e0198",
   "metadata": {},
   "source": [
    "Exception: An exception is an event, which occurs during the execution of a program that disrupts the normal flow of the program's instructions. An object in Python that describes an error is called an exception."
   ]
  },
  {
   "cell_type": "markdown",
   "id": "8722e198",
   "metadata": {},
   "source": [
    "Exceptions versus Syntax Errors\n",
    "\n",
    "- Syntax errors occur when the parser detects an incorrect statement\n",
    "\n",
    "- Exception error is a type of error occurs whenever syntactically correct Python code results in an error."
   ]
  },
  {
   "cell_type": "code",
   "execution_count": null,
   "id": "701f8692",
   "metadata": {},
   "outputs": [],
   "source": []
  },
  {
   "cell_type": "code",
   "execution_count": null,
   "id": "bbefb1b6",
   "metadata": {},
   "outputs": [],
   "source": []
  },
  {
   "cell_type": "code",
   "execution_count": null,
   "id": "d8a5a129",
   "metadata": {},
   "outputs": [],
   "source": [
    "# Exception\n"
   ]
  },
  {
   "cell_type": "code",
   "execution_count": null,
   "id": "e029b0f1",
   "metadata": {},
   "outputs": [],
   "source": [
    "### Try , except, else and finally\n",
    "# try: will test the expected error to occur\n",
    "#except: handle the errors\n",
    "# else: Execute if no exceptions\n",
    "#finally: always get executed either exception is generated or not."
   ]
  },
  {
   "cell_type": "code",
   "execution_count": null,
   "id": "bea123dc",
   "metadata": {},
   "outputs": [],
   "source": []
  },
  {
   "cell_type": "code",
   "execution_count": null,
   "id": "b1a34924",
   "metadata": {},
   "outputs": [],
   "source": [
    "### try and except\n"
   ]
  },
  {
   "cell_type": "code",
   "execution_count": null,
   "id": "0b0fc8b3",
   "metadata": {},
   "outputs": [],
   "source": []
  },
  {
   "cell_type": "code",
   "execution_count": null,
   "id": "acad3b77",
   "metadata": {},
   "outputs": [],
   "source": []
  },
  {
   "cell_type": "code",
   "execution_count": null,
   "id": "79cf5d79",
   "metadata": {},
   "outputs": [],
   "source": []
  },
  {
   "cell_type": "code",
   "execution_count": null,
   "id": "3d0e1244",
   "metadata": {},
   "outputs": [],
   "source": []
  },
  {
   "cell_type": "markdown",
   "id": "79267f52",
   "metadata": {},
   "source": [
    "The code enters the else block only if the try clause does not raise an exception"
   ]
  },
  {
   "cell_type": "code",
   "execution_count": null,
   "id": "7c0f1bfd",
   "metadata": {},
   "outputs": [],
   "source": [
    "# try, except and else\n"
   ]
  },
  {
   "cell_type": "markdown",
   "id": "ce42d076",
   "metadata": {},
   "source": [
    "##### Finally Keyword in Python\n",
    "Python provides a keyword finally, which is always executed after the try and except blocks. The final block always executes after normal termination of try block or after try block terminates due to some exception"
   ]
  },
  {
   "cell_type": "code",
   "execution_count": null,
   "id": "631d2122",
   "metadata": {},
   "outputs": [],
   "source": [
    "# try,except, else and finally\n",
    "def divide(x,y):\n",
    "    try:\n",
    "        result=x//y\n",
    "    except ZeroDivisionError:\n",
    "        print('you are dividing by zero')\n",
    "    else: \n",
    "        print(result)\n",
    "        \n",
    "    finally:\n",
    "        print('End')\n",
    "divide(17,12)"
   ]
  },
  {
   "cell_type": "markdown",
   "id": "cdd21ac2",
   "metadata": {},
   "source": [
    "##### Raising Exception\n",
    "The raise statement allows the programmer to force a specific exception to occur. The sole argument in raise indicates the exception to be raised"
   ]
  },
  {
   "cell_type": "code",
   "execution_count": null,
   "id": "aa644a70",
   "metadata": {},
   "outputs": [],
   "source": [
    "## raise and assert \n",
    "# raising exceptions in python\n"
   ]
  },
  {
   "cell_type": "markdown",
   "id": "d472d45d",
   "metadata": {},
   "source": [
    "asssert keyword:  takes as input a boolean condition, which when returns true doesn’t do anything and continues the normal flow of execution, but if it is computed to be false, then it raises an AssertionError along with the optional message provided. "
   ]
  },
  {
   "cell_type": "code",
   "execution_count": null,
   "id": "5620e29f",
   "metadata": {},
   "outputs": [],
   "source": [
    "# without error msg\n",
    "a = 4\n",
    "b = 0\n",
    " \n",
    "# using assert to check for 0\n"
   ]
  },
  {
   "cell_type": "code",
   "execution_count": null,
   "id": "6a57cdde",
   "metadata": {},
   "outputs": [],
   "source": [
    "#Python assert keyword with error message\n",
    "a = 4\n",
    "b = 0\n",
    " \n",
    "# using assert to check for 0\n"
   ]
  },
  {
   "cell_type": "code",
   "execution_count": null,
   "id": "654c9939",
   "metadata": {},
   "outputs": [],
   "source": [
    "batch = [ 40, 26, 39, 30, 25, 21]\n",
    " \n",
    "# initializing cut temperature\n",
    "cut = 26\n",
    " \n",
    "# using assert to check for temperature greater than cut\n"
   ]
  },
  {
   "cell_type": "code",
   "execution_count": null,
   "id": "6930fcbf",
   "metadata": {},
   "outputs": [],
   "source": [
    "## assert (conditional error handling keyword)\n",
    "# print the recipriocal of even numbers\n",
    "    "
   ]
  },
  {
   "cell_type": "markdown",
   "id": "7582aa09",
   "metadata": {},
   "source": [
    "Get the age of the user, if age is below 18 raise an exception ' valueerror: cannot convert into int' using assert keyword"
   ]
  },
  {
   "cell_type": "code",
   "execution_count": null,
   "id": "4c7be5ec",
   "metadata": {},
   "outputs": [],
   "source": []
  }
 ],
 "metadata": {
  "kernelspec": {
   "display_name": "Python 3 (ipykernel)",
   "language": "python",
   "name": "python3"
  },
  "language_info": {
   "codemirror_mode": {
    "name": "ipython",
    "version": 3
   },
   "file_extension": ".py",
   "mimetype": "text/x-python",
   "name": "python",
   "nbconvert_exporter": "python",
   "pygments_lexer": "ipython3",
   "version": "3.9.7"
  }
 },
 "nbformat": 4,
 "nbformat_minor": 5
}
