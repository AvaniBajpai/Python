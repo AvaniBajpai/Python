{
 "cells": [
  {
   "cell_type": "markdown",
   "metadata": {},
   "source": [
    "# Exercise"
   ]
  },
  {
   "cell_type": "code",
   "execution_count": null,
   "metadata": {},
   "outputs": [],
   "source": [
    "#1.perform addition of three number using lambda function\n",
    "\n",
    "#2.Find cube of the number using lambda function\n",
    "\n",
    "# 3.write code to count the number of capital letters in a file?\n",
    "\n",
    "#4.Write a code to sort a numerical list in Python.\n",
    "\n",
    "#5.Filter the values which are greater than 6 from the range of 9 values using lambda and\n",
    "# filter function\n",
    "\n",
    "#6.Write a Python program to calculate the sum of a list of numbers.\n",
    "\n",
    "#7. Use map() function to convert elements of lists into uppercase\n",
    "alist = ['learn', 'python', 'step', 'by', 'step']\n",
    "\n",
    "#8.Use map() for adding elements of two lists\n",
    "\n",
    "list1 = [1, 2, 3, 4]\n",
    "list2 = [100, 200, 300, 400]\n",
    "\n",
    "#9. apply lambda function to filter out vowles from a list\n",
    "\n",
    "alphabets = ['a', 'b', 'c', 'd', 'e', 'f', 'g', 'h', 'i']"
   ]
  },
  {
   "cell_type": "code",
   "execution_count": null,
   "metadata": {},
   "outputs": [],
   "source": [
    "#10. apply lambda function to find list of even numbers from a given list\n",
    "l2=[456,78,987,400,568,887]"
   ]
  },
  {
   "cell_type": "code",
   "execution_count": null,
   "metadata": {},
   "outputs": [],
   "source": [
    "##### List\n",
    "Display all states starting with the letter M\n",
    "Given the list y = [6,4,2] add the items 12, 8 and 4.\n",
    "Change the 2nd item of the list to 3.\n",
    "Create two lists, an even and odd one."
   ]
  },
  {
   "cell_type": "code",
   "execution_count": null,
   "metadata": {},
   "outputs": [],
   "source": [
    "##### Dictionary\n",
    "Make a mapping from countries to country short codes\n",
    "Print each item (key and value)"
   ]
  }
 ],
 "metadata": {
  "kernelspec": {
   "display_name": "Python 3 (ipykernel)",
   "language": "python",
   "name": "python3"
  },
  "language_info": {
   "codemirror_mode": {
    "name": "ipython",
    "version": 3
   },
   "file_extension": ".py",
   "mimetype": "text/x-python",
   "name": "python",
   "nbconvert_exporter": "python",
   "pygments_lexer": "ipython3",
   "version": "3.9.7"
  }
 },
 "nbformat": 4,
 "nbformat_minor": 2
}
