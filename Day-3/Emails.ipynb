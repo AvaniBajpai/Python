{
 "cells": [
  {
   "cell_type": "markdown",
   "id": "23ae5db1",
   "metadata": {},
   "source": [
    "Simple Mail Transfer Protocol (SMTP) is a protocol, which handles sending e-mail and routing e-mail between mail servers.\n",
    "\n",
    "Python provides smtplib module, which defines an SMTP client session object that can be used to send mail to any Internet machine with an SMTP or ESMTP listener daemon."
   ]
  },
  {
   "cell_type": "code",
   "execution_count": null,
   "id": "ba0ac435",
   "metadata": {},
   "outputs": [],
   "source": [
    "# !pip install smtplib"
   ]
  },
  {
   "cell_type": "code",
   "execution_count": 1,
   "id": "78b730f3",
   "metadata": {},
   "outputs": [
    {
     "name": "stdout",
     "output_type": "stream",
     "text": [
      "Error: (535, b'5.7.8 Username and Password not accepted. Learn more at\\n5.7.8  https://support.google.com/mail/?p=BadCredentials x14-20020aa7956e000000b0052ad49292f0sm2902519pfq.48 - gsmtp')!\n",
      "\n",
      "\n"
     ]
    }
   ],
   "source": [
    "import smtplib\n",
    "\n",
    "gmail_user = 'jdemo7979.com'\n",
    "#google has new feature called two-step verification so to access gmail we need to generate something called as \"app password\"\n",
    "#you need to go to your google account and create app password. \n",
    "#follow the link on how to create app password : https://support.google.com/accounts/answer/185833?hl=en\n",
    "gmail_app_password = 'ltwoqmnvapwssfer'\n",
    "\n",
    "# =============================================================================\n",
    "# SET THE INFO ABOUT THE SAID EMAIL\n",
    "# =============================================================================\n",
    "sent_from = gmail_user\n",
    "#sent_to = ['THE-TO@gmail.com', 'THE-TO@gmail.com']\n",
    "sent_to = ['nithyalakshmi.s15@gmail.com']\n",
    "sent_subject = \"test from python\"\n",
    "sent_body = (\"Hey, what's up? friend!\\n\\n\"\n",
    "             \"I hope you have been well!\\n\"\n",
    "             \"\\n\"\n",
    "             \"Cheers,\\n\"\n",
    "             \"John\\n\")\n",
    "\n",
    "email_text = \"\"\"\\\n",
    "From: %s\n",
    "To: %s\n",
    "Subject: %s\n",
    "\n",
    "%s\n",
    "\"\"\" % (sent_from, \", \".join(sent_to), sent_subject, sent_body)\n",
    "# =============================================================================\n",
    "# SEND EMAIL OR DIE TRYING!!!\n",
    "# Details: http://www.samlogic.net/articles/smtp-commands-reference.htm\n",
    "# =============================================================================\n",
    "\n",
    "try:\n",
    "    server = smtplib.SMTP_SSL('smtp.gmail.com', 465)\n",
    "    server.ehlo()\n",
    "    server.login(gmail_user, gmail_app_password)\n",
    "    server.sendmail(sent_from, sent_to, email_text)\n",
    "    server.close()\n",
    "\n",
    "    print('Email sent!')\n",
    "except Exception as exception:\n",
    "    print(\"Error: %s!\\n\\n\" % exception)"
   ]
  },
  {
   "cell_type": "code",
   "execution_count": 7,
   "id": "d739c17a",
   "metadata": {},
   "outputs": [
    {
     "name": "stdout",
     "output_type": "stream",
     "text": [
      "Collecting yagmail\n",
      "  Downloading yagmail-0.15.280-py2.py3-none-any.whl (17 kB)\n",
      "Collecting premailer\n",
      "  Downloading premailer-3.10.0-py2.py3-none-any.whl (19 kB)\n",
      "Collecting cachetools\n",
      "  Downloading cachetools-5.2.0-py3-none-any.whl (9.3 kB)\n",
      "Collecting cssselect\n",
      "  Downloading cssselect-1.1.0-py2.py3-none-any.whl (16 kB)\n",
      "Requirement already satisfied: lxml in c:\\users\\nithya\\anaconda3\\lib\\site-packages (from premailer->yagmail) (4.6.3)\n",
      "Requirement already satisfied: requests in c:\\users\\nithya\\anaconda3\\lib\\site-packages (from premailer->yagmail) (2.26.0)\n",
      "Collecting cssutils\n",
      "  Downloading cssutils-2.5.1-py3-none-any.whl (399 kB)\n",
      "Requirement already satisfied: certifi>=2017.4.17 in c:\\users\\nithya\\anaconda3\\lib\\site-packages (from requests->premailer->yagmail) (2021.10.8)\n",
      "Requirement already satisfied: urllib3<1.27,>=1.21.1 in c:\\users\\nithya\\anaconda3\\lib\\site-packages (from requests->premailer->yagmail) (1.26.7)\n",
      "Requirement already satisfied: idna<4,>=2.5 in c:\\users\\nithya\\anaconda3\\lib\\site-packages (from requests->premailer->yagmail) (3.2)\n",
      "Requirement already satisfied: charset-normalizer~=2.0.0 in c:\\users\\nithya\\anaconda3\\lib\\site-packages (from requests->premailer->yagmail) (2.0.4)\n",
      "Installing collected packages: cssutils, cssselect, cachetools, premailer, yagmail\n",
      "Successfully installed cachetools-5.2.0 cssselect-1.1.0 cssutils-2.5.1 premailer-3.10.0 yagmail-0.15.280\n"
     ]
    }
   ],
   "source": [
    "!pip install yagmail"
   ]
  },
  {
   "cell_type": "code",
   "execution_count": 2,
   "id": "2b383762",
   "metadata": {},
   "outputs": [
    {
     "name": "stdout",
     "output_type": "stream",
     "text": [
      "Sent email successfully\n"
     ]
    }
   ],
   "source": [
    "import yagmail\n",
    "\n",
    "user = 'jdemo7979@gmail.com'\n",
    "app_password = 'ltwoqmnvapwssfer' # a token for gmail\n",
    "#google has new feature called two-step verification so to access gmail we need to generate something called as \"app password\"\n",
    "#you need to go to your google account and create app password. \n",
    "#follow the link on how to create app password : https://support.google.com/accounts/answer/185833?hl=en\n",
    "to = 'nithyalakshmi.s15@gmail.com'\n",
    "\n",
    "subject = 'test subject 1'\n",
    "content = ['mail body content','pytest.ini','test.png']\n",
    "\n",
    "with yagmail.SMTP(user, app_password) as yag:\n",
    "    yag.send(to, subject, content)\n",
    "    print('Sent email successfully')"
   ]
  },
  {
   "cell_type": "markdown",
   "id": "402e3900",
   "metadata": {},
   "source": [
    "-------------------------------------------------- End ---------------------------------------------"
   ]
  }
 ],
 "metadata": {
  "kernelspec": {
   "display_name": "Python 3 (ipykernel)",
   "language": "python",
   "name": "python3"
  },
  "language_info": {
   "codemirror_mode": {
    "name": "ipython",
    "version": 3
   },
   "file_extension": ".py",
   "mimetype": "text/x-python",
   "name": "python",
   "nbconvert_exporter": "python",
   "pygments_lexer": "ipython3",
   "version": "3.9.7"
  }
 },
 "nbformat": 4,
 "nbformat_minor": 5
}
