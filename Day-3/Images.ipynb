{
 "cells": [
  {
   "cell_type": "markdown",
   "id": "f5acc57c",
   "metadata": {},
   "source": [
    "### Working with Images"
   ]
  },
  {
   "cell_type": "code",
   "execution_count": null,
   "id": "1d7cf74d",
   "metadata": {},
   "outputs": [],
   "source": [
    "!pip install pillow"
   ]
  },
  {
   "cell_type": "code",
   "execution_count": null,
   "id": "53d8720f",
   "metadata": {},
   "outputs": [],
   "source": [
    " "
   ]
  },
  {
   "cell_type": "code",
   "execution_count": null,
   "id": "5191d920",
   "metadata": {},
   "outputs": [],
   "source": []
  },
  {
   "cell_type": "code",
   "execution_count": null,
   "id": "e7c663c1",
   "metadata": {},
   "outputs": [],
   "source": [
    "#Get basic details about the image\n",
    "\n",
    "\n",
    "\n",
    "#show the image\n"
   ]
  },
  {
   "cell_type": "code",
   "execution_count": null,
   "id": "8bcb3b6c",
   "metadata": {},
   "outputs": [],
   "source": []
  },
  {
   "cell_type": "markdown",
   "id": "d43f1878",
   "metadata": {},
   "source": [
    "##### Convert an image to grayscale"
   ]
  },
  {
   "cell_type": "code",
   "execution_count": null,
   "id": "299e7598",
   "metadata": {},
   "outputs": [],
   "source": [
    "#Import required library\n",
    "from PIL import Image\n",
    "#Read an image & convert it to gray-scale\n",
    "\n",
    "\n",
    "#Save image\n"
   ]
  },
  {
   "cell_type": "code",
   "execution_count": null,
   "id": "80a8923b",
   "metadata": {},
   "outputs": [],
   "source": [
    "#Display image\n"
   ]
  },
  {
   "cell_type": "markdown",
   "id": "e7ae3999",
   "metadata": {},
   "source": [
    "Convert to another image type\n",
    "Converting an image of one type (jpeg) to another(say, png) is also very easy"
   ]
  },
  {
   "cell_type": "code",
   "execution_count": null,
   "id": "1578c494",
   "metadata": {},
   "outputs": [],
   "source": [
    "image = Image.open('C://Users//Nithya//Desktop//iron_man.jpg')\n",
    "image.save('C://Users//Nithya//Desktop//iron_man.png')"
   ]
  },
  {
   "cell_type": "code",
   "execution_count": null,
   "id": "3da3eae3",
   "metadata": {},
   "outputs": [],
   "source": []
  },
  {
   "cell_type": "markdown",
   "id": "35d2d7e0",
   "metadata": {},
   "source": [
    "Resize an image"
   ]
  },
  {
   "cell_type": "code",
   "execution_count": null,
   "id": "b2772991",
   "metadata": {},
   "outputs": [],
   "source": []
  },
  {
   "cell_type": "code",
   "execution_count": null,
   "id": "c612aaa2",
   "metadata": {},
   "outputs": [],
   "source": []
  },
  {
   "cell_type": "markdown",
   "id": "ea06a6c5",
   "metadata": {},
   "source": [
    "Rotate an image"
   ]
  },
  {
   "cell_type": "code",
   "execution_count": null,
   "id": "59bec5e3",
   "metadata": {},
   "outputs": [],
   "source": []
  },
  {
   "cell_type": "markdown",
   "id": "852c8195",
   "metadata": {},
   "source": [
    "Create thumbnails"
   ]
  },
  {
   "cell_type": "code",
   "execution_count": null,
   "id": "b9307bd4",
   "metadata": {},
   "outputs": [],
   "source": [
    "from PIL import Image\n",
    "import glob, os\n",
    "\n",
    "size = 128, 128\n",
    "\n",
    "for infile in glob.glob(\"C://Users//Nithya//Desktop//*.jpg\"):\n",
    "    file, ext = os.path.splitext(infile)\n",
    "    image = Image.open(infile)\n",
    "    image.thumbnail(size, Image.ANTIALIAS)\n",
    "    image.save(file + \".thumbnail\", \"JPEG\")\n",
    "image"
   ]
  },
  {
   "cell_type": "markdown",
   "id": "bf484165",
   "metadata": {},
   "source": [
    "------------------------------------------ End ----------------------------------------------------"
   ]
  }
 ],
 "metadata": {
  "kernelspec": {
   "display_name": "Python 3 (ipykernel)",
   "language": "python",
   "name": "python3"
  },
  "language_info": {
   "codemirror_mode": {
    "name": "ipython",
    "version": 3
   },
   "file_extension": ".py",
   "mimetype": "text/x-python",
   "name": "python",
   "nbconvert_exporter": "python",
   "pygments_lexer": "ipython3",
   "version": "3.9.7"
  }
 },
 "nbformat": 4,
 "nbformat_minor": 5
}
