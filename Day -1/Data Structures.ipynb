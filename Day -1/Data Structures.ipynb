{
 "cells": [
  {
   "cell_type": "markdown",
   "id": "1a80b102",
   "metadata": {},
   "source": [
    "### Data Structures\n",
    "\n",
    "         - Lists\n",
    "    \n",
    "         - Tuple\n",
    "        \n",
    "         - Dictionary\n",
    "            \n",
    "              \n",
    "### List Comprehension"
   ]
  },
  {
   "cell_type": "markdown",
   "id": "42c2e01d",
   "metadata": {},
   "source": [
    "#### Data Structures in Python\n",
    "##### Lists"
   ]
  },
  {
   "cell_type": "code",
   "execution_count": null,
   "id": "8371ad4b",
   "metadata": {},
   "outputs": [],
   "source": [
    "An ordered sequence of values enclosed within [ ].\n",
    "\n",
    "- List can be created by [] or list()\n",
    "\n",
    "- Lists are mutable : Can do changes\n",
    "\n",
    "-  List can contain multiple data types\n",
    "\n",
    "- Lists are iterables"
   ]
  },
  {
   "cell_type": "code",
   "execution_count": null,
   "id": "93500aaa",
   "metadata": {},
   "outputs": [],
   "source": [
    "# Create an empty list\n"
   ]
  },
  {
   "cell_type": "code",
   "execution_count": null,
   "id": "a9de41d9",
   "metadata": {},
   "outputs": [],
   "source": [
    "#type"
   ]
  },
  {
   "cell_type": "code",
   "execution_count": null,
   "id": "9d2cc50f",
   "metadata": {},
   "outputs": [],
   "source": [
    "# create a list with int data types\n",
    "\n"
   ]
  },
  {
   "cell_type": "code",
   "execution_count": null,
   "id": "139194c1",
   "metadata": {},
   "outputs": [],
   "source": [
    "# create a list with string data type \n",
    "\n"
   ]
  },
  {
   "cell_type": "code",
   "execution_count": null,
   "id": "77d50381",
   "metadata": {},
   "outputs": [],
   "source": [
    "# create a list with mixed data types : \n"
   ]
  },
  {
   "cell_type": "code",
   "execution_count": null,
   "id": "6872b83d",
   "metadata": {},
   "outputs": [],
   "source": [
    "# Lists are mutable\n",
    "# change the value '5' into '0' in the list ls3\n"
   ]
  },
  {
   "cell_type": "code",
   "execution_count": null,
   "id": "56313591",
   "metadata": {},
   "outputs": [],
   "source": [
    "# Extract 'age' from the list ls3\n"
   ]
  },
  {
   "cell_type": "code",
   "execution_count": null,
   "id": "18c666d3",
   "metadata": {},
   "outputs": [],
   "source": [
    "# Extract 'e'  from the list ls3\n"
   ]
  },
  {
   "cell_type": "code",
   "execution_count": null,
   "id": "ec42fa2a",
   "metadata": {},
   "outputs": [],
   "source": [
    "# Extract 'age',True from the list ls3\n",
    "\n"
   ]
  },
  {
   "cell_type": "code",
   "execution_count": null,
   "id": "6953d46a",
   "metadata": {},
   "outputs": [],
   "source": [
    "ls4= [25,31,[3,4],-5]\n",
    "# extract [3,4] from the list ls4.\n"
   ]
  },
  {
   "cell_type": "code",
   "execution_count": null,
   "id": "3d7e4da5",
   "metadata": {},
   "outputs": [],
   "source": [
    "first=[2,34,5,[56,81,[43,89],67],10]"
   ]
  },
  {
   "cell_type": "code",
   "execution_count": null,
   "id": "656f9066",
   "metadata": {},
   "outputs": [],
   "source": [
    "# extract [43,89] from the list 'first'\n"
   ]
  },
  {
   "cell_type": "code",
   "execution_count": null,
   "id": "c967437d",
   "metadata": {},
   "outputs": [],
   "source": [
    "# extract 89\n"
   ]
  },
  {
   "cell_type": "code",
   "execution_count": null,
   "id": "e10665e6",
   "metadata": {},
   "outputs": [],
   "source": [
    "#extend\n",
    "newlist1=[1,2,3]\n",
    "newlist2=[5,6]\n"
   ]
  },
  {
   "cell_type": "code",
   "execution_count": null,
   "id": "14698a94",
   "metadata": {},
   "outputs": [],
   "source": [
    "# append\n",
    "newlist3=[6,7,8]\n",
    "newlist4=[9,10]\n"
   ]
  },
  {
   "cell_type": "code",
   "execution_count": null,
   "id": "27788664",
   "metadata": {},
   "outputs": [],
   "source": [
    "newlist3+newlist4"
   ]
  },
  {
   "cell_type": "code",
   "execution_count": null,
   "id": "c878f8a4",
   "metadata": {},
   "outputs": [],
   "source": [
    "# insert\n",
    "#syntax: listobject.insert(index,value)\n"
   ]
  },
  {
   "cell_type": "code",
   "execution_count": null,
   "id": "fc8acfc6",
   "metadata": {},
   "outputs": [],
   "source": []
  },
  {
   "cell_type": "code",
   "execution_count": null,
   "id": "180dd055",
   "metadata": {},
   "outputs": [],
   "source": [
    "#pop\n",
    "# listobject.pop(index) \n",
    "# list object.pop()--> removes last element in the list\n",
    "\n"
   ]
  },
  {
   "cell_type": "code",
   "execution_count": null,
   "id": "54b4581b",
   "metadata": {},
   "outputs": [],
   "source": []
  },
  {
   "cell_type": "code",
   "execution_count": null,
   "id": "e71bd95a",
   "metadata": {},
   "outputs": [],
   "source": []
  },
  {
   "cell_type": "code",
   "execution_count": null,
   "id": "056ba81f",
   "metadata": {},
   "outputs": [],
   "source": []
  },
  {
   "cell_type": "code",
   "execution_count": null,
   "id": "e6eb011c",
   "metadata": {},
   "outputs": [],
   "source": []
  },
  {
   "cell_type": "code",
   "execution_count": null,
   "id": "061feb1f",
   "metadata": {},
   "outputs": [],
   "source": [
    "## remove \n",
    "# syntax: listobject.remove(value)\n",
    "list_1=[1,2,'hi','wel',8]\n"
   ]
  },
  {
   "cell_type": "code",
   "execution_count": null,
   "id": "a3b90c02",
   "metadata": {},
   "outputs": [],
   "source": [
    "first=[2,34,5,[56,81,[43,89],67],10,59,57]\n"
   ]
  },
  {
   "cell_type": "code",
   "execution_count": null,
   "id": "272e4cc4",
   "metadata": {},
   "outputs": [],
   "source": [
    "#remove elements from the list : remove 81 # del(indexing)\n"
   ]
  },
  {
   "cell_type": "code",
   "execution_count": null,
   "id": "51778415",
   "metadata": {},
   "outputs": [],
   "source": [
    "# remove 43"
   ]
  },
  {
   "cell_type": "code",
   "execution_count": null,
   "id": "2d0935f7",
   "metadata": {},
   "outputs": [],
   "source": []
  },
  {
   "cell_type": "code",
   "execution_count": null,
   "id": "08b87b53",
   "metadata": {},
   "outputs": [],
   "source": [
    "# reverse\n",
    "# syntax: list object.reverse()\n",
    "list1 = [1, 2, 3, 4, 1, 2, 6]\n"
   ]
  },
  {
   "cell_type": "code",
   "execution_count": null,
   "id": "900b4ded",
   "metadata": {},
   "outputs": [],
   "source": [
    "#index: object.index(value)\n",
    "# returns theindex of the element\n"
   ]
  },
  {
   "cell_type": "code",
   "execution_count": null,
   "id": "5926db03",
   "metadata": {},
   "outputs": [],
   "source": []
  },
  {
   "cell_type": "code",
   "execution_count": null,
   "id": "513faa70",
   "metadata": {},
   "outputs": [],
   "source": [
    "### Apply + * on list objects\n",
    "ls1=[12,23,12,45]\n",
    "ls2=[34,6,7,8]\n"
   ]
  },
  {
   "cell_type": "code",
   "execution_count": null,
   "id": "eb4f0435",
   "metadata": {},
   "outputs": [],
   "source": []
  },
  {
   "cell_type": "code",
   "execution_count": null,
   "id": "339e5450",
   "metadata": {},
   "outputs": [],
   "source": []
  },
  {
   "cell_type": "code",
   "execution_count": null,
   "id": "c4f15fc3",
   "metadata": {},
   "outputs": [],
   "source": [
    "# sort the list object in ascending order\n",
    "ls6=[12,4,78,2,9,54]"
   ]
  },
  {
   "cell_type": "code",
   "execution_count": null,
   "id": "958d4903",
   "metadata": {},
   "outputs": [],
   "source": [
    "#sorted()\n"
   ]
  },
  {
   "cell_type": "code",
   "execution_count": null,
   "id": "09927a0a",
   "metadata": {},
   "outputs": [],
   "source": [
    "# descending order # reverse=True\n"
   ]
  },
  {
   "cell_type": "code",
   "execution_count": null,
   "id": "21a9de37",
   "metadata": {},
   "outputs": [],
   "source": []
  },
  {
   "cell_type": "code",
   "execution_count": null,
   "id": "7e80cea2",
   "metadata": {},
   "outputs": [],
   "source": [
    "#sort() method"
   ]
  },
  {
   "cell_type": "code",
   "execution_count": null,
   "id": "6db2de15",
   "metadata": {},
   "outputs": [],
   "source": []
  },
  {
   "cell_type": "code",
   "execution_count": null,
   "id": "3a4702cb",
   "metadata": {},
   "outputs": [],
   "source": [
    "#descending order\n"
   ]
  },
  {
   "cell_type": "code",
   "execution_count": null,
   "id": "85ba673d",
   "metadata": {},
   "outputs": [],
   "source": [
    "# Copy one list from the other list (or) creating a list from existing list by using '=' (or) \n",
    "#copy() method\n",
    "ls9=[1,2,5,2,1,3,2,10]\n",
    "#create newlist from ls9."
   ]
  },
  {
   "cell_type": "code",
   "execution_count": null,
   "id": "1b9f771e",
   "metadata": {},
   "outputs": [],
   "source": []
  },
  {
   "cell_type": "code",
   "execution_count": null,
   "id": "2cb1c250",
   "metadata": {},
   "outputs": [],
   "source": [
    "# do changes on original object and check whether the copied objects are updated or not\n"
   ]
  },
  {
   "cell_type": "code",
   "execution_count": null,
   "id": "f0af2028",
   "metadata": {},
   "outputs": [],
   "source": [
    "#split method\n",
    "dt=\"6-6-2022\"\n",
    "#split it by '-'\n"
   ]
  },
  {
   "cell_type": "code",
   "execution_count": null,
   "id": "2de11eb6",
   "metadata": {},
   "outputs": [],
   "source": [
    "# loop\n",
    "# for loop\n"
   ]
  },
  {
   "cell_type": "code",
   "execution_count": null,
   "id": "081bc98d",
   "metadata": {},
   "outputs": [],
   "source": [
    "#List comprehension\n",
    "# one line expression of for loop"
   ]
  },
  {
   "cell_type": "code",
   "execution_count": null,
   "id": "11ebb6fb",
   "metadata": {},
   "outputs": [],
   "source": [
    "a=[1,2,3,4]\n",
    "#list of square of elements of a\n",
    "#for loop\n"
   ]
  },
  {
   "cell_type": "code",
   "execution_count": null,
   "id": "b41d298d",
   "metadata": {},
   "outputs": [],
   "source": [
    "#list comprehension : syntax: [expression for if]\n",
    "# list of square of elements\n"
   ]
  },
  {
   "cell_type": "code",
   "execution_count": null,
   "id": "7902a055",
   "metadata": {},
   "outputs": [],
   "source": [
    "cities=['Delhi','Pune','Chennai','Bangalore','Hyd']\n",
    "# create a list of elements which has length is greater than 6.\n"
   ]
  },
  {
   "cell_type": "code",
   "execution_count": null,
   "id": "587102a5",
   "metadata": {},
   "outputs": [],
   "source": [
    "L=[4,7,8,9]\n",
    "# Add value 5 to each element in the list\n"
   ]
  },
  {
   "cell_type": "code",
   "execution_count": null,
   "id": "74134009",
   "metadata": {},
   "outputs": [],
   "source": [
    "# Create a list of elements which is greater than 5 in the given list L\n"
   ]
  },
  {
   "cell_type": "code",
   "execution_count": null,
   "id": "c1a94998",
   "metadata": {},
   "outputs": [],
   "source": [
    "# Addition of two lists L1 and L2\n",
    "# for loop\n",
    "L1=[3,4,5,6]\n",
    "L2=[1,3,5,8]\n"
   ]
  },
  {
   "cell_type": "code",
   "execution_count": null,
   "id": "04ed4b7f",
   "metadata": {},
   "outputs": [],
   "source": [
    "# list comprehension\n"
   ]
  },
  {
   "cell_type": "markdown",
   "id": "68ce9949",
   "metadata": {},
   "source": [
    "### Tuple\n",
    "\n",
    "- A tuple is a sequence of items\n",
    "- tuple is created by using () or tuple()\n",
    "- tuple contains mixed data type\n",
    "- tuples are immutable\n",
    "- tuples are iterable"
   ]
  },
  {
   "cell_type": "code",
   "execution_count": null,
   "id": "79692679",
   "metadata": {},
   "outputs": [],
   "source": [
    "# empty tuple object\n"
   ]
  },
  {
   "cell_type": "code",
   "execution_count": null,
   "id": "dca221ed",
   "metadata": {},
   "outputs": [],
   "source": [
    "#type"
   ]
  },
  {
   "cell_type": "code",
   "execution_count": null,
   "id": "53f28503",
   "metadata": {},
   "outputs": [],
   "source": [
    "#create a tuple with elements\n",
    "\n"
   ]
  },
  {
   "cell_type": "code",
   "execution_count": null,
   "id": "57c174db",
   "metadata": {},
   "outputs": [],
   "source": []
  },
  {
   "cell_type": "code",
   "execution_count": null,
   "id": "fe19c1eb",
   "metadata": {},
   "outputs": [],
   "source": []
  },
  {
   "cell_type": "code",
   "execution_count": null,
   "id": "224c83fa",
   "metadata": {},
   "outputs": [],
   "source": [
    "# extract '4' from t3\n"
   ]
  },
  {
   "cell_type": "code",
   "execution_count": null,
   "id": "b5ffc49f",
   "metadata": {},
   "outputs": [],
   "source": [
    "# immutable\n"
   ]
  },
  {
   "cell_type": "code",
   "execution_count": null,
   "id": "ed17f488",
   "metadata": {},
   "outputs": [],
   "source": [
    "# convert tuple object into list and do changes."
   ]
  },
  {
   "cell_type": "code",
   "execution_count": null,
   "id": "3232f25a",
   "metadata": {},
   "outputs": [],
   "source": []
  },
  {
   "cell_type": "code",
   "execution_count": null,
   "id": "0f8d08ab",
   "metadata": {},
   "outputs": [],
   "source": []
  },
  {
   "cell_type": "code",
   "execution_count": null,
   "id": "51899aff",
   "metadata": {},
   "outputs": [],
   "source": []
  },
  {
   "cell_type": "code",
   "execution_count": null,
   "id": "2d6f4964",
   "metadata": {},
   "outputs": [],
   "source": []
  },
  {
   "cell_type": "code",
   "execution_count": null,
   "id": "bcc18f76",
   "metadata": {},
   "outputs": [],
   "source": []
  },
  {
   "cell_type": "code",
   "execution_count": null,
   "id": "4e887619",
   "metadata": {},
   "outputs": [],
   "source": [
    "#for loop\n"
   ]
  },
  {
   "cell_type": "markdown",
   "id": "64b34e73",
   "metadata": {},
   "source": [
    "### Dictionary\n",
    "- A collection of unordered set of key:value pairs.\n",
    "\n",
    "- Create dictionaries by using {} or dict()\n",
    "\n",
    "- Keys are unique.\n",
    "\n",
    "- values are accessed by using keys, not by index\n",
    "\n",
    "- Dictionaries are mutable.\n",
    "\n",
    "- Dicitonaries are iterables."
   ]
  },
  {
   "cell_type": "code",
   "execution_count": null,
   "id": "943bd3dc",
   "metadata": {},
   "outputs": [],
   "source": [
    "# empty dict:\n"
   ]
  },
  {
   "cell_type": "code",
   "execution_count": null,
   "id": "648f16e7",
   "metadata": {},
   "outputs": [],
   "source": [
    "#type"
   ]
  },
  {
   "cell_type": "code",
   "execution_count": null,
   "id": "9e6efeb8",
   "metadata": {},
   "outputs": [],
   "source": [
    "# create dict of integer values\n"
   ]
  },
  {
   "cell_type": "code",
   "execution_count": null,
   "id": "49b3a49d",
   "metadata": {},
   "outputs": [],
   "source": [
    "# create  dict of strings values\n"
   ]
  },
  {
   "cell_type": "code",
   "execution_count": null,
   "id": "bf07a54c",
   "metadata": {},
   "outputs": [],
   "source": [
    "# create dict of mixed data types\n",
    "d2_1={'new1':'hello','new2':5,'new3':[7,8],'new4':('the',87)}\n"
   ]
  },
  {
   "cell_type": "code",
   "execution_count": null,
   "id": "c125613b",
   "metadata": {},
   "outputs": [],
   "source": []
  },
  {
   "cell_type": "code",
   "execution_count": null,
   "id": "84981051",
   "metadata": {},
   "outputs": [],
   "source": []
  },
  {
   "cell_type": "code",
   "execution_count": null,
   "id": "514b4604",
   "metadata": {},
   "outputs": [],
   "source": [
    "# keys() & values() method\n"
   ]
  },
  {
   "cell_type": "code",
   "execution_count": null,
   "id": "8dd4af6e",
   "metadata": {},
   "outputs": [],
   "source": []
  },
  {
   "cell_type": "code",
   "execution_count": null,
   "id": "5c4ea3dc",
   "metadata": {},
   "outputs": [],
   "source": [
    "#items() method"
   ]
  },
  {
   "cell_type": "code",
   "execution_count": null,
   "id": "7226655e",
   "metadata": {},
   "outputs": [],
   "source": [
    "#extract [5,6,7] from d4.\n"
   ]
  },
  {
   "cell_type": "code",
   "execution_count": null,
   "id": "712417d1",
   "metadata": {},
   "outputs": [],
   "source": [
    "#extract 6\n"
   ]
  },
  {
   "cell_type": "code",
   "execution_count": null,
   "id": "45b22e8c",
   "metadata": {},
   "outputs": [],
   "source": [
    "#extract 'b'\n"
   ]
  },
  {
   "cell_type": "code",
   "execution_count": null,
   "id": "4f754e21",
   "metadata": {},
   "outputs": [],
   "source": [
    "d5={'one':{'el_one':[3,4,6,{'el_two':'z'}]}}\n",
    "# extract 'z'\n"
   ]
  },
  {
   "cell_type": "code",
   "execution_count": null,
   "id": "46e055bb",
   "metadata": {},
   "outputs": [],
   "source": [
    "d6={'new':[9,4,5,['split','merge',10]],'old':('s',17,0),'mid':{'ram':4,'ravi':8}}\n",
    "#Extract 'merge'\n",
    "#extract 8\n"
   ]
  },
  {
   "cell_type": "code",
   "execution_count": null,
   "id": "6fa0448c",
   "metadata": {},
   "outputs": [],
   "source": []
  },
  {
   "cell_type": "code",
   "execution_count": null,
   "id": "bb456050",
   "metadata": {},
   "outputs": [],
   "source": [
    "# for loop\n"
   ]
  },
  {
   "cell_type": "code",
   "execution_count": null,
   "id": "957948fa",
   "metadata": {},
   "outputs": [],
   "source": [
    "#mutable\n",
    "# change the 1st element in the first key in the dictionary d6.\n"
   ]
  },
  {
   "cell_type": "code",
   "execution_count": null,
   "id": "a900fbef",
   "metadata": {},
   "outputs": [],
   "source": [
    "# using pop() method to rename the key names in the dictionary\n"
   ]
  },
  {
   "cell_type": "code",
   "execution_count": null,
   "id": "c5dc4bc9",
   "metadata": {},
   "outputs": [],
   "source": [
    "?d6.update()   # press shift+tab will show the details about the given method."
   ]
  },
  {
   "cell_type": "code",
   "execution_count": null,
   "id": "b6394772",
   "metadata": {},
   "outputs": [],
   "source": [
    "### map and filter function\n",
    "#square function\n",
    "\n",
    "#map function: map square function\n",
    "b=[2,3,4]\n",
    "# map(fun,iterable)\n"
   ]
  },
  {
   "cell_type": "code",
   "execution_count": null,
   "id": "2acff138",
   "metadata": {},
   "outputs": [],
   "source": [
    "# filter function\n",
    "# filter the words from a list that dont start with the letter 's'\n",
    "seq=['soup','salad','food','great']\n",
    "                         ## without list, it will returns the generator object."
   ]
  },
  {
   "cell_type": "code",
   "execution_count": null,
   "id": "dbf10068",
   "metadata": {},
   "outputs": [],
   "source": [
    "--------------------------------------------------End--------------------------------------------------------------"
   ]
  }
 ],
 "metadata": {
  "kernelspec": {
   "display_name": "Python 3 (ipykernel)",
   "language": "python",
   "name": "python3"
  },
  "language_info": {
   "codemirror_mode": {
    "name": "ipython",
    "version": 3
   },
   "file_extension": ".py",
   "mimetype": "text/x-python",
   "name": "python",
   "nbconvert_exporter": "python",
   "pygments_lexer": "ipython3",
   "version": "3.9.7"
  }
 },
 "nbformat": 4,
 "nbformat_minor": 5
}
